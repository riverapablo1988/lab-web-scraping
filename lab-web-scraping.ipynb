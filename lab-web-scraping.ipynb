{
  "cells": [
    {
      "cell_type": "markdown",
      "id": "7e7a1ab8-2599-417d-9a65-25ef07f3a786",
      "metadata": {
        "id": "7e7a1ab8-2599-417d-9a65-25ef07f3a786"
      },
      "source": [
        "# Lab | Web Scraping"
      ]
    },
    {
      "cell_type": "markdown",
      "id": "ce8882fc-4815-4567-92fa-b4816358ba7d",
      "metadata": {
        "id": "ce8882fc-4815-4567-92fa-b4816358ba7d"
      },
      "source": [
        "Welcome to the \"Books to Scrape\" Web Scraping Adventure Lab!\n",
        "\n",
        "**Objective**\n",
        "\n",
        "In this lab, we will embark on a mission to unearth valuable insights from the data available on Books to Scrape, an online platform showcasing a wide variety of books. As data analyst, you have been tasked with scraping a specific subset of book data from Books to Scrape to assist publishing companies in understanding the landscape of highly-rated books across different genres. Your insights will help shape future book marketing strategies and publishing decisions.\n",
        "\n",
        "**Background**\n",
        "\n",
        "In a world where data has become the new currency, businesses are leveraging big data to make informed decisions that drive success and profitability. The publishing industry, much like others, utilizes data analytics to understand market trends, reader preferences, and the performance of books based on factors such as genre, author, and ratings. Books to Scrape serves as a rich source of such data, offering detailed information about a diverse range of books, making it an ideal platform for extracting insights to aid in informed decision-making within the literary world.\n",
        "\n",
        "**Task**\n",
        "\n",
        "Your task is to create a Python script using BeautifulSoup and pandas to scrape Books to Scrape book data, focusing on book ratings and genres. The script should be able to filter books with ratings above a certain threshold and in specific genres. Additionally, the script should structure the scraped data in a tabular format using pandas for further analysis.\n",
        "\n",
        "**Expected Outcome**\n",
        "\n",
        "A function named `scrape_books` that takes two parameters: `min_rating` and `max_price`. The function should scrape book data from the \"Books to Scrape\" website and return a `pandas` DataFrame with the following columns:\n",
        "\n",
        "**Expected Outcome**\n",
        "\n",
        "- A function named `scrape_books` that takes two parameters: `min_rating` and `max_price`.\n",
        "- The function should return a DataFrame with the following columns:\n",
        "  - **UPC**: The Universal Product Code (UPC) of the book.\n",
        "  - **Title**: The title of the book.\n",
        "  - **Price (£)**: The price of the book in pounds.\n",
        "  - **Rating**: The rating of the book (1-5 stars).\n",
        "  - **Genre**: The genre of the book.\n",
        "  - **Availability**: Whether the book is in stock or not.\n",
        "  - **Description**: A brief description or product description of the book (if available).\n",
        "  \n",
        "You will execute this script to scrape data for books with a minimum rating of `4.0 and above` and a maximum price of `£20`. \n",
        "\n",
        "Remember to experiment with different ratings and prices to ensure your code is versatile and can handle various searches effectively!\n",
        "\n",
        "**Resources**\n",
        "\n",
        "- [Beautiful Soup Documentation](https://www.crummy.com/software/BeautifulSoup/bs4/doc/)\n",
        "- [Pandas Documentation](https://pandas.pydata.org/pandas-docs/stable/index.html)\n",
        "- [Books to Scrape](https://books.toscrape.com/)\n"
      ]
    },
    {
      "cell_type": "markdown",
      "id": "3519921d-5890-445b-9a33-934ed8ee378c",
      "metadata": {
        "id": "3519921d-5890-445b-9a33-934ed8ee378c"
      },
      "source": [
        "**Hint**\n",
        "\n",
        "Your first mission is to familiarize yourself with the **Books to Scrape** website. Navigate to [Books to Scrape](http://books.toscrape.com/) and explore the available books to understand their layout and structure. \n",
        "\n",
        "Next, think about how you can set parameters for your data extraction:\n",
        "\n",
        "- **Minimum Rating**: Focus on books with a rating of 4.0 and above.\n",
        "- **Maximum Price**: Filter for books priced up to £20.\n",
        "\n",
        "After reviewing the site, you can construct a plan for scraping relevant data. Pay attention to the details displayed for each book, including the title, price, rating, and availability. This will help you identify the correct HTML elements to target with your scraping script.\n",
        "\n",
        "Make sure to build your scraping URL and logic based on the patterns you observe in the HTML structure of the book listings!"
      ]
    },
    {
      "cell_type": "markdown",
      "id": "25a83a0d-a742-49f6-985e-e27887cbf922",
      "metadata": {
        "id": "25a83a0d-a742-49f6-985e-e27887cbf922"
      },
      "source": [
        "\n",
        "---\n",
        "\n",
        "**Best of luck! Immerse yourself in the world of books, and may the data be with you!**"
      ]
    },
    {
      "cell_type": "markdown",
      "id": "7b75cf0d-9afa-4eec-a9e2-befeac68b2a0",
      "metadata": {
        "id": "7b75cf0d-9afa-4eec-a9e2-befeac68b2a0"
      },
      "source": [
        "**Important Note**:\n",
        "\n",
        "In the fast-changing online world, websites often update and change their structures. When you try this lab, the **Books to Scrape** website might differ from what you expect.\n",
        "\n",
        "If you encounter issues due to these changes, like new rules or obstacles preventing data extraction, don’t worry! Get creative.\n",
        "\n",
        "You can choose another website that interests you and is suitable for scraping data. Options like Wikipedia, The New York Times, or even library databases are great alternatives. The main goal remains the same: extract useful data and enhance your web scraping skills while exploring a source of information you enjoy. This is your opportunity to practice and adapt to different web environments!"
      ]
    },
    {
      "cell_type": "code",
      "execution_count": 7,
      "id": "40359eee-9cd7-4884-bfa4-83344c222305",
      "metadata": {
        "id": "40359eee-9cd7-4884-bfa4-83344c222305"
      },
      "outputs": [
        {
          "name": "stdout",
          "output_type": "stream",
          "text": [
            "books on page 1: 20\n"
          ]
        }
      ],
      "source": [
        "import requests\n",
        "from bs4 import BeautifulSoup\n",
        "\n",
        "html = requests.get(\"https://books.toscrape.com/catalogue/page-1.html\", timeout=10).content\n",
        "soup = BeautifulSoup(html, \"html.parser\")\n",
        "pods = soup.select(\"article.product_pod\")\n",
        "print(\"books on page 1:\", len(pods))"
      ]
    },
    {
      "cell_type": "code",
      "execution_count": 10,
      "id": "4ffc92d2",
      "metadata": {},
      "outputs": [],
      "source": [
        "import requests\n",
        "from bs4 import BeautifulSoup\n",
        "import pandas as pd\n",
        "\n",
        "STAR_MAP = {\"One\": 1, \"Two\": 2, \"Three\": 3, \"Four\": 4, \"Five\": 5}\n",
        "\n",
        "def get_soup(url):\n",
        "    r = requests.get(url, timeout=15)\n",
        "    r.raise_for_status()\n",
        "    return BeautifulSoup(r.content, \"html.parser\")\n",
        "\n",
        "def scrape_books(min_rating=4, max_price=20, max_pages=3):\n",
        "    base = \"https://books.toscrape.com/\"\n",
        "    page_url = base + \"catalogue/page-1.html\"\n",
        "    rows = []\n",
        "    page = 1\n",
        "\n",
        "    while True:\n",
        "        print(f\"Procesing page {page}: {page_url}\") \n",
        "        try:\n",
        "            soup = get_soup(page_url)\n",
        "        except Exception as e:\n",
        "            print(\"Error loading page:\", e)\n",
        "            break\n",
        "\n",
        "        pods = soup.select(\"article.product_pod\")\n",
        "        if not pods:\n",
        "            print(\"No books in this page.\")\n",
        "            break\n",
        "\n",
        "        for pod in pods:\n",
        "            title = pod.h3.a[\"title\"]\n",
        "            price_text = pod.select_one(\"p.price_color\").get_text(strip=True)\n",
        "            price = float(price_text.replace(\"£\", \"\"))\n",
        "            rating_class = pod.select_one(\"p.star-rating\")[\"class\"]\n",
        "            rating = STAR_MAP.get(next(c for c in rating_class if c != \"star-rating\"), 0)\n",
        "\n",
        "            detail_rel = pod.h3.a[\"href\"]\n",
        "            if detail_rel.startswith(\"../\"):\n",
        "                detail_rel = detail_rel.replace(\"../\", \"\")\n",
        "            detail_url = base + \"catalogue/\" + detail_rel\n",
        "\n",
        "            try:\n",
        "                d = get_soup(detail_url)\n",
        "            except Exception as e:\n",
        "                print(\"Error detail, omits:\", e)\n",
        "                continue\n",
        "\n",
        "            upc = d.select_one(\"table.table.table-striped tr:nth-of-type(1) td\").get_text(strip=True)\n",
        "            availability = d.select_one(\"p.instock.availability\").get_text(strip=True)\n",
        "            desc_header = d.select_one(\"#product_description\")\n",
        "            description = desc_header.find_next(\"p\").get_text(strip=True) if desc_header else \"\"\n",
        "            crumbs = d.select(\"ul.breadcrumb li a\")\n",
        "            genre = crumbs[2].get_text(strip=True) if len(crumbs) > 2 else \"Unknown\"\n",
        "\n",
        "            if rating >= min_rating and price <= max_price:\n",
        "                rows.append({\n",
        "                    \"UPC\": upc,\n",
        "                    \"Title\": title,\n",
        "                    \"Price (£)\": price,\n",
        "                    \"Rating\": rating,\n",
        "                    \"Genre\": genre,\n",
        "                    \"Availability\": availability,\n",
        "                    \"Description\": description\n",
        "                })\n",
        "\n",
        "        next_li = soup.select_one(\"li.next a\")\n",
        "        if not next_li:\n",
        "            break\n",
        "\n",
        "        href = next_li[\"href\"]              \n",
        "        page_url = base + \"catalogue/\" + href\n",
        "        page += 1\n",
        "        if page > max_pages:                \n",
        "            print(f\"Limit found pages ({max_pages}).\")\n",
        "            break\n",
        "\n",
        "    return pd.DataFrame(rows)"
      ]
    },
    {
      "cell_type": "code",
      "execution_count": null,
      "id": "9d834e3e",
      "metadata": {},
      "outputs": [],
      "source": [
        "df = scrape_books(min_rating=4, max_price=20, max_pages=2)\n",
        "print(df.head())\n",
        "print(len(df), \"Found Books\")"
      ]
    }
  ],
  "metadata": {
    "colab": {
      "provenance": []
    },
    "kernelspec": {
      "display_name": "base",
      "language": "python",
      "name": "python3"
    },
    "language_info": {
      "codemirror_mode": {
        "name": "ipython",
        "version": 3
      },
      "file_extension": ".py",
      "mimetype": "text/x-python",
      "name": "python",
      "nbconvert_exporter": "python",
      "pygments_lexer": "ipython3",
      "version": "3.13.5"
    }
  },
  "nbformat": 4,
  "nbformat_minor": 5
}
